{
 "cells": [
  {
   "cell_type": "code",
   "execution_count": 1,
   "id": "ce1a4317",
   "metadata": {},
   "outputs": [],
   "source": [
    "import cv2 as cv"
   ]
  },
  {
   "cell_type": "code",
   "execution_count": 2,
   "id": "eebbec94",
   "metadata": {},
   "outputs": [],
   "source": [
    "def rescaling(width,height):\n",
    "    #works only on live video\n",
    "    capture.set(3,width)\n",
    "    capture.set(4,height)"
   ]
  },
  {
   "cell_type": "code",
   "execution_count": 3,
   "id": "f40106fb",
   "metadata": {},
   "outputs": [],
   "source": [
    "def resolution(frame,ratio=1.25):\n",
    "    # works on video, photo,live video\n",
    "    width=int(frame.shape[1] * ratio)\n",
    "    height=int(frame.shape[0]*ratio)\n",
    "    dimension=(width,height)\n",
    "    return cv.resize(frame,dimension,interpolation=cv.INTER_AREA)\n",
    "\n",
    "\n",
    "def resolution1(frame,ratio=0.5):\n",
    "    # works on video, photo,live video\n",
    "    width=int(frame.shape[1] * ratio)\n",
    "    height=int(frame.shape[0]*ratio)\n",
    "    dimension=(width,height)\n",
    "    return cv.resize(frame,dimension,interpolation=cv.INTER_CUBIC)"
   ]
  },
  {
   "cell_type": "code",
   "execution_count": 4,
   "id": "2136e316",
   "metadata": {},
   "outputs": [],
   "source": [
    "image=cv.imread('photo.jpeg')\n",
    "cv.imshow(\"photo viewer\",image)\n",
    "cv.imshow(\"Photo decrement\",resolution(image))\n",
    "cv.imshow(\"Photo linear\",resolution1(image))\n",
    "cv.waitKey(0)\n",
    "cv.destroyAllWindows()"
   ]
  },
  {
   "cell_type": "code",
   "execution_count": 5,
   "id": "1f9b7b29",
   "metadata": {},
   "outputs": [],
   "source": [
    "vid = cv.VideoCapture(0)\n",
    "while(True):\n",
    "    ret, frame = vid.read()\n",
    "    if (cv.waitKey(1) & 0xFF == ord('q')) or ret==False:\n",
    "        break\n",
    "    \n",
    "    ModFrame=resolution(frame)\n",
    "    cv.imshow('frame', ModFrame)\n",
    "vid.release()\n",
    "cv.destroyAllWindows()\n"
   ]
  },
  {
   "cell_type": "code",
   "execution_count": 6,
   "id": "495269f2",
   "metadata": {},
   "outputs": [],
   "source": [
    "#creating blank image\n",
    "import numpy as np\n",
    "blank=np.zeros((5000,5000,3),dtype=\"uint8\")\n",
    "cv.imshow(\"blank\",blank)\n",
    "cv.waitKey(0)\n",
    "cv.destroyAllWindows()"
   ]
  },
  {
   "cell_type": "code",
   "execution_count": 7,
   "id": "24bf14a4",
   "metadata": {},
   "outputs": [],
   "source": [
    "#drawing in the image\n",
    "blank[:]=0,0,255\n",
    "cv.imshow(\"blank\",blank)\n",
    "cv.waitKey(0)\n",
    "cv.destroyAllWindows()"
   ]
  },
  {
   "cell_type": "code",
   "execution_count": 8,
   "id": "13786416",
   "metadata": {},
   "outputs": [],
   "source": [
    "#coluring specific area\n",
    "blank=np.zeros((500,500,3),dtype=\"uint8\")\n",
    "cv.imshow(\"blank\",blank)\n",
    "blank[200:300,250:350]=0,0,255\n",
    "cv.imshow(\"blank\",blank)\n",
    "cv.waitKey(0)\n",
    "cv.destroyAllWindows()"
   ]
  },
  {
   "cell_type": "code",
   "execution_count": 9,
   "id": "a3affe86",
   "metadata": {},
   "outputs": [],
   "source": [
    "import numpy as np\n",
    "blank=np.ones((500,500,3),dtype=\"uint8\")"
   ]
  },
  {
   "cell_type": "code",
   "execution_count": 10,
   "id": "8c0af873",
   "metadata": {},
   "outputs": [],
   "source": [
    "#Creating rectangle\n",
    "cv.rectangle(blank,(0,0),(550,250),(0,200,150),thickness=1)\n",
    "cv.imshow(\"rectangle\",blank)\n",
    "cv.waitKey(0)\n",
    "cv.destroyAllWindows()"
   ]
  },
  {
   "cell_type": "code",
   "execution_count": 11,
   "id": "99e300af",
   "metadata": {},
   "outputs": [],
   "source": [
    "#Creating rectangle\n",
    "#thickness=cv.FILLED fill the shape with color\n",
    "cv.rectangle(blank,(0,0),(550,250),(0,255,0),thickness=cv.FILLED)\n",
    "cv.imshow(\"rectangle\",blank)\n",
    "cv.waitKey(0)\n",
    "cv.destroyAllWindows()"
   ]
  },
  {
   "cell_type": "code",
   "execution_count": 12,
   "id": "5aee78dd",
   "metadata": {},
   "outputs": [],
   "source": [
    "#Creating circle\n",
    "cv.circle(blank,(250,250),200,(255,0,0),thickness=-1)\n",
    "cv.imshow('circle',blank)\n",
    "cv.waitKey(0)\n",
    "cv.destroyAllWindows()"
   ]
  },
  {
   "cell_type": "code",
   "execution_count": 13,
   "id": "fcf6ca5f",
   "metadata": {},
   "outputs": [],
   "source": [
    "#Creating line\n",
    "cv.line(blank,(250*2,250*2),(0,0),(255,0,0),thickness=3)\n",
    "cv.imshow('line',blank)\n",
    "cv.waitKey(0)\n",
    "cv.destroyAllWindows()"
   ]
  },
  {
   "cell_type": "code",
   "execution_count": 14,
   "id": "07592aa9",
   "metadata": {},
   "outputs": [],
   "source": [
    "#putting text\n",
    "cv.putText(blank,\"Hello my name is manash das\",(0,255),cv.FONT_HERSHEY_TRIPLEX,0.5,(0,255,0),1)\n",
    "cv.imshow('TEXT',blank)\n",
    "cv.waitKey(0)\n",
    "cv.destroyAllWindows()"
   ]
  },
  {
   "cell_type": "markdown",
   "id": "9949b016",
   "metadata": {},
   "source": [
    "# # Image Transformation"
   ]
  },
  {
   "cell_type": "code",
   "execution_count": 15,
   "id": "017676b0",
   "metadata": {},
   "outputs": [],
   "source": [
    "#creating image in greyscale\n",
    "image=cv.imread('photo.jpeg')\n",
    "image=resolution(image)\n",
    "grey=cv.cvtColor(image,cv.COLOR_BGR2GRAY)\n",
    "cv.imshow(\"image\",image)\n",
    "cv.imshow(\"Grey\",grey)\n",
    "cv.waitKey(0)\n",
    "cv.destroyAllWindows()"
   ]
  },
  {
   "cell_type": "code",
   "execution_count": 16,
   "id": "76b220dd",
   "metadata": {},
   "outputs": [],
   "source": [
    "#Blur image\n",
    "image=cv.imread('photo.jpeg')\n",
    "image=resolution(image)\n",
    "cv.imshow('original image',image)\n",
    "blur=cv.GaussianBlur(image,(3,3),cv.BORDER_DEFAULT)\n",
    "cv.imshow('Blur image',blur)\n",
    "cv.waitKey(0)\n",
    "cv.destroyAllWindows()"
   ]
  },
  {
   "cell_type": "code",
   "execution_count": 17,
   "id": "53db7a54",
   "metadata": {},
   "outputs": [],
   "source": [
    "#Edge detection\n",
    "canny=cv.Canny(image,150,100)\n",
    "#canny1=cv.Canny(blur,10,150)\n",
    "#cv.imshow('Less',canny1)\n",
    "cv.imshow(\"Edge detection\",canny)\n",
    "#Dilated\n",
    "#dilated=cv.dilate(canny1,(1,1),iterations=10)\n",
    "dilated2=cv.dilate(canny,(1,1),iterations=1)\n",
    "cv.imshow(\"Dilated1\",dilated2)\n",
    "#cv.imshow(\"Dilated2\",dilated)\n",
    "cv.waitKey(0)\n",
    "cv.destroyAllWindows()"
   ]
  },
  {
   "cell_type": "code",
   "execution_count": 20,
   "id": "6c5243dd",
   "metadata": {},
   "outputs": [],
   "source": [
    "#Dilated\n",
    "#dilated=cv.dilate(canny1,(1,1),iterations=10)\n",
    "dilated=cv.dilate(canny,(1,1),iterations=1)\n",
    "cv.imshow(\"Dilated1\",dilated2)\n",
    "#cv.imshow(\"Dilated2\",dilated)\n",
    "\n",
    "cv.waitKey(0)\n",
    "cv.destroyAllWindows()"
   ]
  },
  {
   "cell_type": "code",
   "execution_count": 21,
   "id": "562bef97",
   "metadata": {},
   "outputs": [],
   "source": [
    "#Eroded\n",
    "Eroded=cv.erode(dilated,(7,7),iterations=3)\n",
    "cv.imshow(\"Eroded\",Eroded)\n",
    "cv.waitKey(0)\n",
    "cv.destroyAllWindows()"
   ]
  },
  {
   "cell_type": "code",
   "execution_count": 22,
   "id": "136656f8",
   "metadata": {},
   "outputs": [],
   "source": [
    "#Resize\n",
    "image=cv.imread('photo.jpeg')\n",
    "resize=cv.resize(image,(1000,1000),interpolation=cv.INTER_CUBIC)\n",
    "cv.imshow(\"image\",resize)\n",
    "cv.waitKey(0)\n",
    "cv.destroyAllWindows()"
   ]
  },
  {
   "cell_type": "code",
   "execution_count": 35,
   "id": "404d5654",
   "metadata": {},
   "outputs": [],
   "source": [
    "#Cropping\n",
    "image=cv.imread(\"photo.jpeg\")\n",
    "image=resolution(image)\n",
    "cropped=image[100:100,300:300]#slicing\n",
    "cv.imshow(\"crop\",image)\n",
    "cv.waitKey(0)\n",
    "cv.destroyAllWindows()"
   ]
  },
  {
   "cell_type": "code",
   "execution_count": 39,
   "id": "56ca9954",
   "metadata": {},
   "outputs": [
    {
     "name": "stdout",
     "output_type": "stream",
     "text": [
      "[[ 50.  50. 100.]\n",
      " [ 50.  50. 100.]]\n"
     ]
    }
   ],
   "source": [
    "#image shifting\n",
    "def shifting(img,x,y):\n",
    "    shift=np.float32([[50,50,x],[50,50,y]])\n",
    "    print(shift)\n",
    "    dimension=[img.shape[1],img.shape[0]]\n",
    "    return cv.warpAffine(img,shift,dimension)\n",
    "\n",
    "# -x->moves left\n",
    "# -y->moves up\n",
    "# x->moves right\n",
    "# y->moves down\n",
    "img=resolution(image,0.5)\n",
    "shifting=shifting(img,100,100)\n",
    "cv.imshow(\"shifter image\",shifting)\n",
    "cv.imshow(\"image\",image)\n",
    "\n",
    "cv.waitKey(0)\n",
    "cv.destroyAllWindows()"
   ]
  },
  {
   "cell_type": "code",
   "execution_count": 65,
   "id": "e24a14b1",
   "metadata": {},
   "outputs": [],
   "source": [
    "#image Rotation\n",
    "def rotate(image,angle,rotpoint=None):\n",
    "    (height,width)=image.shape[0:2]\n",
    "    if(rotpoint==None):\n",
    "        rotpoint=(width//2,height//2)\n",
    "    rotMat=cv.getRotationMatrix2D(rotpoint,angle,0.5)\n",
    "    dimensions=(width,height)\n",
    "    return cv.warpAffine(image,rotMat,dimensions)\n",
    "\n",
    "Rotating=rotate(img,45)\n",
    "\n",
    "cv.imshow(\"Rotate image\",Rotating)\n",
    "\n",
    "cv.waitKey(0)\n",
    "cv.destroyAllWindows()\n",
    "# + angle->anticlockwise\n",
    "# - angle->clockwise"
   ]
  },
  {
   "cell_type": "code",
   "execution_count": 74,
   "id": "e01e2f9b",
   "metadata": {},
   "outputs": [],
   "source": [
    "#flip image\n",
    "flip=cv.flip(img,-1)\n",
    "cv.imshow(\"flip image\",flip)\n",
    "cv.waitKey(0)\n",
    "cv.destroyAllWindows()"
   ]
  },
  {
   "cell_type": "markdown",
   "id": "0e0d8d88",
   "metadata": {},
   "source": [
    "### counter or finding edges "
   ]
  },
  {
   "cell_type": "code",
   "execution_count": 110,
   "id": "9c501cec",
   "metadata": {},
   "outputs": [
    {
     "name": "stdout",
     "output_type": "stream",
     "text": [
      "[[[   1   -1   -1   -1]\n",
      "  [   2    0   -1   -1]\n",
      "  [   3    1   -1   -1]\n",
      "  ...\n",
      "  [2970 2968   -1   -1]\n",
      "  [2971 2969   -1   -1]\n",
      "  [  -1 2970   -1   -1]]]\n",
      "2972\n"
     ]
    }
   ],
   "source": [
    "#Counter\n",
    "import cv2 as cv\n",
    "image=cv.imread(\"photo.jpeg\")\n",
    "canny=cv.Canny(image,200,200)\n",
    "cv.imshow(\"canny image\",canny)\n",
    "counter,heirarchies=cv.findContours(canny,cv.RETR_LIST, cv.CHAIN_APPROX_SIMPLE)\n",
    "print(heirarchies)\n",
    "#counter -> stores all coordinates of contours\n",
    "print(len(counter))\n",
    "cv.waitKey(0)\n",
    "cv.destroyAllWindows()"
   ]
  },
  {
   "cell_type": "code",
   "execution_count": 90,
   "id": "8a2164a0",
   "metadata": {},
   "outputs": [],
   "source": [
    "#Blank image\n",
    "import numpy as np\n",
    "blank=np.zeros(image.shape,dtype='uint8')\n",
    "cv.imshow(\"blank\",blank)\n",
    "cv.waitKey(0)\n",
    "cv.destroyAllWindows()"
   ]
  },
  {
   "cell_type": "code",
   "execution_count": 111,
   "id": "d687fdf4",
   "metadata": {},
   "outputs": [
    {
     "ename": "error",
     "evalue": "OpenCV(4.5.3) c:\\users\\runneradmin\\appdata\\local\\temp\\pip-req-build-u4kjpz2z\\opencv\\modules\\imgproc\\src\\color.simd_helpers.hpp:92: error: (-2:Unspecified error) in function '__cdecl cv::impl::`anonymous-namespace'::CvtHelper<struct cv::impl::`anonymous namespace'::Set<1,-1,-1>,struct cv::impl::A0x5888afd4::Set<3,4,-1>,struct cv::impl::A0x5888afd4::Set<0,2,5>,2>::CvtHelper(const class cv::_InputArray &,const class cv::_OutputArray &,int)'\n> Invalid number of channels in input image:\n>     'VScn::contains(scn)'\n> where\n>     'scn' is 3\n",
     "output_type": "error",
     "traceback": [
      "\u001b[1;31m---------------------------------------------------------------------------\u001b[0m",
      "\u001b[1;31merror\u001b[0m                                     Traceback (most recent call last)",
      "\u001b[1;32m<ipython-input-111-9e105feed6d0>\u001b[0m in \u001b[0;36m<module>\u001b[1;34m\u001b[0m\n\u001b[0;32m      1\u001b[0m \u001b[1;31m#Other way of contours\u001b[0m\u001b[1;33m\u001b[0m\u001b[1;33m\u001b[0m\u001b[1;33m\u001b[0m\u001b[0m\n\u001b[1;32m----> 2\u001b[1;33m \u001b[0mgrey\u001b[0m\u001b[1;33m=\u001b[0m\u001b[0mcv\u001b[0m\u001b[1;33m.\u001b[0m\u001b[0mcvtColor\u001b[0m\u001b[1;33m(\u001b[0m\u001b[0mimage\u001b[0m\u001b[1;33m,\u001b[0m\u001b[0mcv\u001b[0m\u001b[1;33m.\u001b[0m\u001b[0mCOLOR_GRAY2RGB\u001b[0m\u001b[1;33m)\u001b[0m\u001b[1;33m\u001b[0m\u001b[1;33m\u001b[0m\u001b[0m\n\u001b[0m\u001b[0;32m      3\u001b[0m \u001b[1;31m#cv.imshow(\"image\",grey)\u001b[0m\u001b[1;33m\u001b[0m\u001b[1;33m\u001b[0m\u001b[1;33m\u001b[0m\u001b[0m\n\u001b[0;32m      4\u001b[0m \u001b[1;31m#img=cv.cvtColor(image,cv.COLOR_BGR2GRAY)\u001b[0m\u001b[1;33m\u001b[0m\u001b[1;33m\u001b[0m\u001b[1;33m\u001b[0m\u001b[0m\n\u001b[0;32m      5\u001b[0m \u001b[0mret\u001b[0m\u001b[1;33m,\u001b[0m\u001b[0mthresh\u001b[0m\u001b[1;33m=\u001b[0m\u001b[0mcv\u001b[0m\u001b[1;33m.\u001b[0m\u001b[0mthreshold\u001b[0m\u001b[1;33m(\u001b[0m\u001b[0mgrey\u001b[0m\u001b[1;33m,\u001b[0m\u001b[1;36m120\u001b[0m\u001b[1;33m,\u001b[0m\u001b[1;36m255\u001b[0m\u001b[1;33m,\u001b[0m\u001b[0mcv\u001b[0m\u001b[1;33m.\u001b[0m\u001b[0mTHRESH_BINARY\u001b[0m\u001b[1;33m)\u001b[0m\u001b[1;33m\u001b[0m\u001b[1;33m\u001b[0m\u001b[0m\n",
      "\u001b[1;31merror\u001b[0m: OpenCV(4.5.3) c:\\users\\runneradmin\\appdata\\local\\temp\\pip-req-build-u4kjpz2z\\opencv\\modules\\imgproc\\src\\color.simd_helpers.hpp:92: error: (-2:Unspecified error) in function '__cdecl cv::impl::`anonymous-namespace'::CvtHelper<struct cv::impl::`anonymous namespace'::Set<1,-1,-1>,struct cv::impl::A0x5888afd4::Set<3,4,-1>,struct cv::impl::A0x5888afd4::Set<0,2,5>,2>::CvtHelper(const class cv::_InputArray &,const class cv::_OutputArray &,int)'\n> Invalid number of channels in input image:\n>     'VScn::contains(scn)'\n> where\n>     'scn' is 3\n"
     ]
    }
   ],
   "source": [
    "#Other way of contours\n",
    "grey=cv.cvtColor(image,cv.COLOR_GRAY2RGB)\n",
    "#cv.imshow(\"image\",grey)\n",
    "#img=cv.cvtColor(image,cv.COLOR_BGR2GRAY)\n",
    "ret,thresh=cv.threshold(grey,120,255,cv.THRESH_BINARY)\n",
    "cv.imshow(\"thresh\",thresh)\n",
    "cv.waitKey(0)\n",
    "cv.destroyAllWindows()"
   ]
  },
  {
   "cell_type": "code",
   "execution_count": 92,
   "id": "f063710a",
   "metadata": {},
   "outputs": [],
   "source": [
    "#placing contours\n",
    "cv.drawContours(blank,counter,-1,(0,255,0),1)\n",
    "cv.imshow(\"placing contours\",blank)\n",
    "cv.waitKey(0)\n",
    "cv.destroyAllWindows()"
   ]
  },
  {
   "cell_type": "code",
   "execution_count": 118,
   "id": "e7d4b3f0",
   "metadata": {},
   "outputs": [
    {
     "ename": "error",
     "evalue": "OpenCV(4.5.3) :-1: error: (-3:Internal error) Overload resolution failed, but no errors reported in function 'drawContours'\n",
     "output_type": "error",
     "traceback": [
      "\u001b[1;31m---------------------------------------------------------------------------\u001b[0m",
      "\u001b[1;31merror\u001b[0m                                     Traceback (most recent call last)",
      "\u001b[1;32m<ipython-input-118-211571c6a716>\u001b[0m in \u001b[0;36m<module>\u001b[1;34m\u001b[0m\n\u001b[0;32m      1\u001b[0m \u001b[1;31m#placing contours\u001b[0m\u001b[1;33m\u001b[0m\u001b[1;33m\u001b[0m\u001b[1;33m\u001b[0m\u001b[0m\n\u001b[1;32m----> 2\u001b[1;33m \u001b[0mcv\u001b[0m\u001b[1;33m.\u001b[0m\u001b[0mdrawContours\u001b[0m\u001b[1;33m(\u001b[0m\u001b[0mblank\u001b[0m\u001b[1;33m,\u001b[0m\u001b[0mret\u001b[0m\u001b[1;33m,\u001b[0m\u001b[1;33m-\u001b[0m\u001b[1;36m1\u001b[0m\u001b[1;33m,\u001b[0m\u001b[1;33m(\u001b[0m\u001b[1;36m0\u001b[0m\u001b[1;33m,\u001b[0m\u001b[1;36m255\u001b[0m\u001b[1;33m,\u001b[0m\u001b[1;36m0\u001b[0m\u001b[1;33m)\u001b[0m\u001b[1;33m,\u001b[0m\u001b[1;36m2\u001b[0m\u001b[1;33m)\u001b[0m\u001b[1;33m\u001b[0m\u001b[1;33m\u001b[0m\u001b[0m\n\u001b[0m\u001b[0;32m      3\u001b[0m \u001b[0mcv\u001b[0m\u001b[1;33m.\u001b[0m\u001b[0mimshow\u001b[0m\u001b[1;33m(\u001b[0m\u001b[1;34m\"placing contours\"\u001b[0m\u001b[1;33m,\u001b[0m\u001b[0mblank\u001b[0m\u001b[1;33m)\u001b[0m\u001b[1;33m\u001b[0m\u001b[1;33m\u001b[0m\u001b[0m\n\u001b[0;32m      4\u001b[0m \u001b[0mcv\u001b[0m\u001b[1;33m.\u001b[0m\u001b[0mwaitKey\u001b[0m\u001b[1;33m(\u001b[0m\u001b[1;36m0\u001b[0m\u001b[1;33m)\u001b[0m\u001b[1;33m\u001b[0m\u001b[1;33m\u001b[0m\u001b[0m\n\u001b[0;32m      5\u001b[0m \u001b[0mcv\u001b[0m\u001b[1;33m.\u001b[0m\u001b[0mdestroyAllWindows\u001b[0m\u001b[1;33m(\u001b[0m\u001b[1;33m)\u001b[0m\u001b[1;33m\u001b[0m\u001b[1;33m\u001b[0m\u001b[0m\n",
      "\u001b[1;31merror\u001b[0m: OpenCV(4.5.3) :-1: error: (-3:Internal error) Overload resolution failed, but no errors reported in function 'drawContours'\n"
     ]
    }
   ],
   "source": [
    "#placing contours\n",
    "cv.drawContours(blank,ret,-1,(0,255,0),2)\n",
    "cv.imshow(\"placing contours\",blank)\n",
    "cv.waitKey(0)\n",
    "cv.destroyAllWindows()\n"
   ]
  },
  {
   "cell_type": "code",
   "execution_count": 119,
   "id": "d7f83671",
   "metadata": {},
   "outputs": [
    {
     "data": {
      "text/plain": [
       "13"
      ]
     },
     "execution_count": 119,
     "metadata": {},
     "output_type": "execute_result"
    }
   ],
   "source": [
    "rgb=cv.cvtColor(image,cv.COLOR_BGR2RGB)\n",
    "cv.imshow(\"RGB\",rgb)\n",
    "cv.waitKey(0)"
   ]
  },
  {
   "cell_type": "code",
   "execution_count": 117,
   "id": "19eb4538",
   "metadata": {},
   "outputs": [],
   "source": [
    "#Laplacian\n",
    "lap=cv.Laplacian(grey,cv.CV_64F)\n",
    "lap=np.uint8(np.absolute(lap))\n",
    "cv.imshow(\"Laplacian\",lap)\n",
    "cv.waitKey(0)\n",
    "cv.destroyAllWindows()"
   ]
  }
 ],
 "metadata": {
  "kernelspec": {
   "display_name": "Python 3",
   "language": "python",
   "name": "python3"
  },
  "language_info": {
   "codemirror_mode": {
    "name": "ipython",
    "version": 3
   },
   "file_extension": ".py",
   "mimetype": "text/x-python",
   "name": "python",
   "nbconvert_exporter": "python",
   "pygments_lexer": "ipython3",
   "version": "3.8.8"
  }
 },
 "nbformat": 4,
 "nbformat_minor": 5
}
