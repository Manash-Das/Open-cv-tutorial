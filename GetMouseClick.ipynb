{
 "cells": [
  {
   "cell_type": "code",
   "execution_count": null,
   "id": "3ddaef7e",
   "metadata": {},
   "outputs": [],
   "source": [
    "import cv2 as cv\n",
    "def mouseClick(event,x,y,flags,params):\n",
    "    if event==cv.EVENT_LBUTTONDOWN:\n",
    "        print(x,y)"
   ]
  },
  {
   "cell_type": "code",
   "execution_count": null,
   "id": "e0927752",
   "metadata": {},
   "outputs": [],
   "source": [
    "image=cv.imread(\"photo.jpeg\")\n",
    "image=cv.resize(image,(0,0),None,0.5,0.5)\n",
    "cv.imshow(\"Image\",image)\n",
    "cv.setMouseCallback(\"Image\",mouseClick)\n",
    "cv.waitKey(0)\n",
    "cv.destroyAllWindows()"
   ]
  },
  {
   "cell_type": "code",
   "execution_count": null,
   "id": "0d775985",
   "metadata": {},
   "outputs": [],
   "source": [
    "################### Simple Detect #############\n",
    "\n",
    "# import cv2\n",
    "# def mousePoints(event,x,y,flags,params):\n",
    "#     if event == cv2.EVENT_LBUTTONDOWN:\n",
    "#         print(x,y)\n",
    "#\n",
    "# img = cv2.imread('Resources/cards.jpg')\n",
    "# cv2.imshow(\"Original Image \", img)\n",
    "# cv2.setMouseCallback(\"Original Image \", mousePoints)\n",
    "# cv2.waitKey(0)\n",
    "\n",
    "\n",
    "######### WARP PRESPECTIVE IMPLEMANTAION WITH MOUSE CLICKS ##################\n",
    "\n",
    "import cv2\n",
    "import numpy as np\n",
    "\n",
    "circles = np.zeros((4,2),np.int)\n",
    "counter = 0\n",
    "\n",
    "def mousePoints(event,x,y,flags,params):\n",
    "    global counter\n",
    "    if event == cv2.EVENT_LBUTTONDOWN:\n",
    "        circles[counter] = x,y\n",
    "        counter = counter + 1\n",
    "        print(circles)\n",
    "\n",
    "\n",
    "\n",
    "img = cv2.imread('cards.jpg')\n",
    "while True:\n",
    "    if counter == 4:\n",
    "        width, height = 250,350\n",
    "        pts1 = np.float32([circles[0],circles[1],circles[2],circles[3]])\n",
    "        pts2 = np.float32([[0,0],[width,0],[0,height],[width,height]])\n",
    "        matrix = cv2.getPerspectiveTransform(pts1,pts2)\n",
    "        imgOutput = cv2.warpPerspective(img,matrix,(width,height))\n",
    "        cv2.imshow(\"Output Image \", imgOutput)\n",
    "\n",
    "\n",
    "    for x in range (0,4):\n",
    "        cv2.circle(img,(circles[x][0],circles[x][1]),3,(0,255,0),cv2.FILLED)\n",
    "\n",
    "    cv2.imshow(\"Original Image \", img)\n",
    "    cv2.setMouseCallback(\"Original Image \", mousePoints)\n",
    "    if (cv2.waitKey(1) & 0xFF == ord('q')):\n",
    "        break\n",
    "cv2.destroyAllWindows()\n"
   ]
  },
  {
   "cell_type": "code",
   "execution_count": null,
   "id": "b2793630",
   "metadata": {},
   "outputs": [],
   "source": []
  }
 ],
 "metadata": {
  "kernelspec": {
   "display_name": "Python 3",
   "language": "python",
   "name": "python3"
  },
  "language_info": {
   "codemirror_mode": {
    "name": "ipython",
    "version": 3
   },
   "file_extension": ".py",
   "mimetype": "text/x-python",
   "name": "python",
   "nbconvert_exporter": "python",
   "pygments_lexer": "ipython3",
   "version": "3.8.8"
  }
 },
 "nbformat": 4,
 "nbformat_minor": 5
}
