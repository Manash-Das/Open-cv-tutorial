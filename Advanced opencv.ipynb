{
 "cells": [
  {
   "cell_type": "markdown",
   "id": "837f1507",
   "metadata": {},
   "source": [
    "# WORKING WITH COLOR CHANNEL"
   ]
  },
  {
   "cell_type": "code",
   "execution_count": 48,
   "id": "3445d3aa",
   "metadata": {},
   "outputs": [],
   "source": [
    "#importing necessary library\n",
    "import cv2 as cv\n",
    "import numpy as np"
   ]
  },
  {
   "cell_type": "code",
   "execution_count": 49,
   "id": "14715571",
   "metadata": {},
   "outputs": [],
   "source": [
    "#import photo\n",
    "photo=cv.imread(\"photo.jpeg\")\n",
    "cv.imshow(\"photo\",photo)\n",
    "cv.waitKey(0)\n",
    "cv.destroyAllWindows()"
   ]
  },
  {
   "cell_type": "code",
   "execution_count": 50,
   "id": "b49698f1",
   "metadata": {},
   "outputs": [],
   "source": [
    "#Creating blank image\n",
    "blank=np.zeros((photo.shape[:2]),dtype=\"uint8\")\n",
    "cv.imshow(\"Blank\",blank)\n",
    "cv.waitKey(0)\n",
    "cv.destroyAllWindows()"
   ]
  },
  {
   "cell_type": "code",
   "execution_count": 51,
   "id": "0a42a808",
   "metadata": {},
   "outputs": [],
   "source": [
    "#BGR channel is divided\n",
    "b,g,r=cv.split(photo)\n",
    "cv.imshow(\"Blue\",b)\n",
    "cv.imshow(\"Green\",g)\n",
    "cv.imshow(\"Red\",r)\n",
    "cv.waitKey(0)\n",
    "cv.destroyAllWindows()"
   ]
  },
  {
   "cell_type": "code",
   "execution_count": 52,
   "id": "f196b224",
   "metadata": {},
   "outputs": [],
   "source": [
    "#Three channel B,G,R is combined\n",
    "blue=cv.merge([b,blank,blank])\n",
    "green=cv.merge([blank,g,blank])\n",
    "red=cv.merge([blank,blank,r])\n",
    "cv.imshow(\"Blue\",blue)\n",
    "cv.imshow(\"Green\",green)\n",
    "cv.imshow(\"Red\",red)\n",
    "cv.waitKey(0)\n",
    "cv.destroyAllWindows()"
   ]
  },
  {
   "cell_type": "markdown",
   "id": "7931232e",
   "metadata": {},
   "source": [
    "# Types of BLURRING"
   ]
  },
  {
   "cell_type": "code",
   "execution_count": 6,
   "id": "876666ab",
   "metadata": {},
   "outputs": [],
   "source": [
    "\n",
    "#kernel size of block in a image\n",
    "#For example if we choose kernal size of 3, It will divide 1 block divided with 3X3 pixel over the image.\n",
    "#average blur is a technique for blurring in which center pixel is the average of all the surrounding pixel, \n",
    "#i.e, pixel 5 is the avarage of all the pixel \n",
    "#[ [1][2][3]\n",
    "#  [4][5][6]\n",
    "#  [7][8][9] ] pixel 5 is the average of all pixel 1,2,3,4,6,7,8,9\n",
    "cv.imshow(\"original image\",photo)\n",
    "avg=cv.blur(photo,(3,3))\n",
    "cv.imshow(\"average\",avg)\n",
    "cv.waitKey(0)\n",
    "cv.destroyAllWindows()"
   ]
  },
  {
   "cell_type": "code",
   "execution_count": 70,
   "id": "ec279356",
   "metadata": {},
   "outputs": [],
   "source": [
    "#Gaussian Blur is a technique for blurring in which center pixel is the sum of the product of all the surrounding pixel and \n",
    "#weight,i.e, pixel 5 is the avarage of all the pixel\n",
    "#[ [1][2][3]\n",
    "#  [4][5][6]\n",
    "#  [7][8][9] ] pixel 5 is the average of all pixel 1,2,3,4,6,7,8,9\n",
    "gauss=cv.GaussianBlur(photo,(3,3),1)\n",
    "cv.imshow(\"Guass\",gauss)\n",
    "cv.waitKey(0)\n",
    "cv.destroyAllWindows()"
   ]
  },
  {
   "cell_type": "code",
   "execution_count": 8,
   "id": "13f8c2c6",
   "metadata": {},
   "outputs": [],
   "source": [
    "#Median Blur is a technique for blurring in which center pixel is the median of all the surrounding pixel\n",
    "#[ [1][2][3]\n",
    "#  [4][5][6]\n",
    "#  [7][8][9] ] pixel 5 is the Median of all pixel 1,2,3,4,6,7,8,9\n",
    "Median=cv.medianBlur(photo,5)\n",
    "cv.imshow(\"Median Blur\",Median)\n",
    "cv.waitKey(0)\n",
    "cv.destroyAllWindows()"
   ]
  },
  {
   "cell_type": "code",
   "execution_count": 76,
   "id": "4185db40",
   "metadata": {},
   "outputs": [],
   "source": [
    "#Bilateral Blur\n",
    "bilateral=cv.bilateralFilter(photo,10,20,20)\n",
    "cv.imshow(\"Bilateral\",bilateral)\n",
    "cv.waitKey(0)\n",
    "cv.destroyAllWindows()"
   ]
  },
  {
   "cell_type": "markdown",
   "id": "0afaf8e4",
   "metadata": {},
   "source": [
    "# BITWISE OPERATION"
   ]
  },
  {
   "cell_type": "code",
   "execution_count": 81,
   "id": "e529636e",
   "metadata": {},
   "outputs": [],
   "source": [
    "import numpy as np\n",
    "import cv2 as cv\n",
    "blank=np.zeros(photo.shape[:],dtype=\"uint8\")\n",
    "cv.imshow(\"Blank\",blank)\n",
    "cv.waitKey(0)\n",
    "cv.destroyAllWindows()"
   ]
  },
  {
   "cell_type": "code",
   "execution_count": 102,
   "id": "12473f5a",
   "metadata": {},
   "outputs": [],
   "source": [
    "rectangle=cv.rectangle(blank.copy(),(500,500),(750,750),(0,0,255),-1)\n",
    "cv.imshow(\"Rectangle\",rectangle)\n",
    "cv.waitKey(0)\n",
    "cv.destroyAllWindows()"
   ]
  },
  {
   "cell_type": "code",
   "execution_count": 116,
   "id": "0f84de42",
   "metadata": {},
   "outputs": [],
   "source": [
    "circle=cv.circle(blank.copy(),(500,500),250,(0,0,255),-1)\n",
    "cv.imshow(\"Rectangle\",circle)\n",
    "cv.waitKey(0)\n",
    "cv.destroyAllWindows()"
   ]
  },
  {
   "cell_type": "code",
   "execution_count": 119,
   "id": "29423bf5",
   "metadata": {},
   "outputs": [],
   "source": [
    "And=cv.bitwise_and(circle,rectangle)\n",
    "cv.imshow(\"And operation\",And)\n",
    "cv.waitKey(0)\n",
    "cv.destroyAllWindows()"
   ]
  },
  {
   "cell_type": "code",
   "execution_count": 14,
   "id": "be8a398d",
   "metadata": {},
   "outputs": [],
   "source": [
    "Or=cv.bitwise_or(rectangle,circle)\n",
    "cv.imshow(\"Or operation\",Or)\n",
    "cv.waitKey(0)\n",
    "cv.destroyAllWindows()"
   ]
  },
  {
   "cell_type": "code",
   "execution_count": 15,
   "id": "e40b48cd",
   "metadata": {},
   "outputs": [],
   "source": [
    "xor=cv.bitwise_xor(rectangle,circle)\n",
    "cv.imshow(\"XOR\",xor)\n",
    "cv.waitKey(0)\n",
    "cv.destroyAllWindows()"
   ]
  },
  {
   "cell_type": "code",
   "execution_count": 120,
   "id": "113836fd",
   "metadata": {},
   "outputs": [],
   "source": [
    "Not=cv.bitwise_not(circle)\n",
    "cv.imshow(\"Not operation\",Not)\n",
    "cv.waitKey(0)\n",
    "cv.destroyAllWindows()"
   ]
  },
  {
   "cell_type": "markdown",
   "id": "5cad90ec",
   "metadata": {},
   "source": [
    "# MASKING"
   ]
  },
  {
   "cell_type": "code",
   "execution_count": 17,
   "id": "8c92b52d",
   "metadata": {},
   "outputs": [
    {
     "name": "stdout",
     "output_type": "stream",
     "text": [
      "(1280, 960, 3)\n"
     ]
    }
   ],
   "source": [
    "photo=cv.imread(\"photo.jpeg\")\n",
    "cv.imshow(\"photo\",photo)\n",
    "print(photo.shape[:])\n",
    "cv.waitKey(0)\n",
    "cv.destroyAllWindows()"
   ]
  },
  {
   "cell_type": "code",
   "execution_count": 18,
   "id": "61e4647e",
   "metadata": {},
   "outputs": [],
   "source": [
    "import cv2 as cv\n",
    "import numpy as np\n",
    "blank=np.zeros((photo.shape[:3]),dtype=\"uint8\")"
   ]
  },
  {
   "cell_type": "code",
   "execution_count": 19,
   "id": "edd0efe9",
   "metadata": {},
   "outputs": [],
   "source": [
    "cv.imshow(\"blank\",blank)\n",
    "cv.waitKey(0)\n",
    "cv.destroyAllWindows()"
   ]
  },
  {
   "cell_type": "code",
   "execution_count": 20,
   "id": "a917e166",
   "metadata": {},
   "outputs": [],
   "source": [
    "rectangle=cv.rectangle(blank.copy(),((photo.shape[1]//2)-200,(photo.shape[0]//2)-200),\n",
    "                       ((photo.shape[1]//2)+200,(photo.shape[0]//2)+200),(255,255,255),-1)\n",
    "cv.imshow(\"Rectangle\",rectangle)\n",
    "cv.waitKey(0)\n",
    "cv.destroyAllWindows()"
   ]
  },
  {
   "cell_type": "code",
   "execution_count": 21,
   "id": "88d70f95",
   "metadata": {},
   "outputs": [],
   "source": [
    "Bitwise_And=cv.bitwise_and(rectangle,photo)\n",
    "cv.imshow(\"Masking\",Bitwise_And)\n",
    "cv.waitKey(0)\n",
    "cv.destroyAllWindows()"
   ]
  },
  {
   "cell_type": "code",
   "execution_count": 22,
   "id": "cf45b1a8",
   "metadata": {},
   "outputs": [],
   "source": [
    "Bitwise_Or=cv.bitwise_or(photo,rectangle)\n",
    "cv.imshow(\"Or masking\",Bitwise_Or)\n",
    "cv.waitKey(0)\n",
    "cv.destroyAllWindows()"
   ]
  },
  {
   "cell_type": "markdown",
   "id": "8ab5e790",
   "metadata": {},
   "source": [
    "# HISTOGRAM"
   ]
  },
  {
   "cell_type": "code",
   "execution_count": 23,
   "id": "a2b584a9",
   "metadata": {},
   "outputs": [],
   "source": [
    "#Library imported\n",
    "import cv2 as cv\n",
    "import numpy as np\n",
    "import matplotlib.pyplot as py\n",
    "#pop out graph\n",
    "%matplotlib qt "
   ]
  },
  {
   "cell_type": "code",
   "execution_count": 24,
   "id": "3d065937",
   "metadata": {},
   "outputs": [],
   "source": [
    "#Photo is imported\n",
    "image=cv.imread(\"Photo.jpeg\")\n",
    "cv.imshow(\"Photo\",image)\n",
    "cv.waitKey(0)\n",
    "cv.destroyAllWindows()\n",
    "\n",
    "#Blank image is imported\n",
    "blank=np.zeros(image.shape[:2],dtype=\"uint8\")\n",
    "cv.imshow(\"BLANK\",blank)\n",
    "cv.waitKey(0)\n",
    "cv.destroyAllWindows()\n"
   ]
  },
  {
   "cell_type": "code",
   "execution_count": 25,
   "id": "efdb52dc",
   "metadata": {},
   "outputs": [],
   "source": [
    "#Color channel is splited\n",
    "b,g,r=cv.split(image)\n",
    "blue=cv.merge([b,blank,blank])         #RGB->#BGR\n",
    "cv.imshow(\"blue\",b)\n",
    "cv.imshow(\"blue\",blue)\n",
    "cv.waitKey(0)\n",
    "cv.destroyAllWindows()"
   ]
  },
  {
   "cell_type": "code",
   "execution_count": 26,
   "id": "0f3d0b9f",
   "metadata": {},
   "outputs": [],
   "source": [
    "#Rectangle is drawn over a image\n",
    "#blank.copy is used so that blank image doesnot get updated\n",
    "rectangle=cv.rectangle(blank.copy(),((photo.shape[1]//2)-200,(photo.shape[0]//2)-200),\n",
    "                       ((photo.shape[1]//2)+200,(photo.shape[0]//2)+200),(255,255,255),-1)\n",
    "cv.imshow(\"Rectangle\",rectangle)\n",
    "cv.waitKey(0)\n",
    "cv.destroyAllWindows()"
   ]
  },
  {
   "cell_type": "code",
   "execution_count": 121,
   "id": "24662718",
   "metadata": {},
   "outputs": [
    {
     "ename": "error",
     "evalue": "OpenCV(4.5.3) C:\\Users\\runneradmin\\AppData\\Local\\Temp\\pip-req-build-u4kjpz2z\\opencv\\modules\\imgproc\\src\\histogram.cpp:993: error: (-215:Assertion failed) mask.empty() || mask.type() == CV_8UC1 in function 'cv::calcHist'\n",
     "output_type": "error",
     "traceback": [
      "\u001b[1;31m---------------------------------------------------------------------------\u001b[0m",
      "\u001b[1;31merror\u001b[0m                                     Traceback (most recent call last)",
      "\u001b[1;32m<ipython-input-121-78b7a8abf123>\u001b[0m in \u001b[0;36m<module>\u001b[1;34m\u001b[0m\n\u001b[0;32m      4\u001b[0m \u001b[1;31m#Histogram is created\u001b[0m\u001b[1;33m\u001b[0m\u001b[1;33m\u001b[0m\u001b[1;33m\u001b[0m\u001b[0m\n\u001b[0;32m      5\u001b[0m \u001b[1;31m#Histogram is created for a particular area\u001b[0m\u001b[1;33m\u001b[0m\u001b[1;33m\u001b[0m\u001b[1;33m\u001b[0m\u001b[0m\n\u001b[1;32m----> 6\u001b[1;33m \u001b[0mgrey_hist1\u001b[0m\u001b[1;33m=\u001b[0m\u001b[0mcv\u001b[0m\u001b[1;33m.\u001b[0m\u001b[0mcalcHist\u001b[0m\u001b[1;33m(\u001b[0m\u001b[1;33m[\u001b[0m\u001b[0mb\u001b[0m\u001b[1;33m]\u001b[0m\u001b[1;33m,\u001b[0m\u001b[1;33m[\u001b[0m\u001b[1;36m1\u001b[0m\u001b[1;33m]\u001b[0m\u001b[1;33m,\u001b[0m\u001b[0mrectangle\u001b[0m\u001b[1;33m,\u001b[0m\u001b[1;33m[\u001b[0m\u001b[1;36m256\u001b[0m\u001b[1;33m]\u001b[0m\u001b[1;33m,\u001b[0m\u001b[1;33m[\u001b[0m\u001b[1;36m0\u001b[0m\u001b[1;33m,\u001b[0m\u001b[1;36m256\u001b[0m\u001b[1;33m]\u001b[0m\u001b[1;33m)\u001b[0m\u001b[1;33m\u001b[0m\u001b[1;33m\u001b[0m\u001b[0m\n\u001b[0m\u001b[0;32m      7\u001b[0m \u001b[0mgrey_hist2\u001b[0m\u001b[1;33m=\u001b[0m\u001b[0mcv\u001b[0m\u001b[1;33m.\u001b[0m\u001b[0mcalcHist\u001b[0m\u001b[1;33m(\u001b[0m\u001b[1;33m[\u001b[0m\u001b[0mg\u001b[0m\u001b[1;33m]\u001b[0m\u001b[1;33m,\u001b[0m\u001b[1;33m[\u001b[0m\u001b[1;36m0\u001b[0m\u001b[1;33m]\u001b[0m\u001b[1;33m,\u001b[0m\u001b[0mrectangle\u001b[0m\u001b[1;33m,\u001b[0m\u001b[1;33m[\u001b[0m\u001b[1;36m256\u001b[0m\u001b[1;33m]\u001b[0m\u001b[1;33m,\u001b[0m\u001b[1;33m[\u001b[0m\u001b[1;36m0\u001b[0m\u001b[1;33m,\u001b[0m\u001b[1;36m256\u001b[0m\u001b[1;33m]\u001b[0m\u001b[1;33m)\u001b[0m\u001b[1;33m\u001b[0m\u001b[1;33m\u001b[0m\u001b[0m\n\u001b[0;32m      8\u001b[0m \u001b[0mgrey_hist3\u001b[0m\u001b[1;33m=\u001b[0m\u001b[0mcv\u001b[0m\u001b[1;33m.\u001b[0m\u001b[0mcalcHist\u001b[0m\u001b[1;33m(\u001b[0m\u001b[1;33m[\u001b[0m\u001b[0mr\u001b[0m\u001b[1;33m]\u001b[0m\u001b[1;33m,\u001b[0m\u001b[1;33m[\u001b[0m\u001b[1;36m0\u001b[0m\u001b[1;33m]\u001b[0m\u001b[1;33m,\u001b[0m\u001b[0mrectangle\u001b[0m\u001b[1;33m,\u001b[0m\u001b[1;33m[\u001b[0m\u001b[1;36m256\u001b[0m\u001b[1;33m]\u001b[0m\u001b[1;33m,\u001b[0m\u001b[1;33m[\u001b[0m\u001b[1;36m0\u001b[0m\u001b[1;33m,\u001b[0m\u001b[1;36m256\u001b[0m\u001b[1;33m]\u001b[0m\u001b[1;33m)\u001b[0m\u001b[1;33m\u001b[0m\u001b[1;33m\u001b[0m\u001b[0m\n",
      "\u001b[1;31merror\u001b[0m: OpenCV(4.5.3) C:\\Users\\runneradmin\\AppData\\Local\\Temp\\pip-req-build-u4kjpz2z\\opencv\\modules\\imgproc\\src\\histogram.cpp:993: error: (-215:Assertion failed) mask.empty() || mask.type() == CV_8UC1 in function 'cv::calcHist'\n"
     ]
    }
   ],
   "source": [
    "#image is converted to greyscale\n",
    "grey_scale=cv.cvtColor(image,cv.COLOR_BGR2GRAY)\n",
    "cv.imshow(\"GreyScale\",grey_scale)\n",
    "#Histogram is created\n",
    "#Histogram is created for a particular area\n",
    "grey_hist1=cv.calcHist([b],[1],rectangle,[256],[0,256])\n",
    "grey_hist2=cv.calcHist([g],[0],rectangle,[256],[0,256])\n",
    "grey_hist3=cv.calcHist([r],[0],rectangle,[256],[0,256])\n",
    "plot1=py.figure(1)\n",
    "py.plot(grey_hist1)\n",
    "plot1=py.figure(2)\n",
    "py.plot(grey_hist2)\n",
    "plot1=py.figure(3)\n",
    "py.plot(grey_hist3)\n",
    "cv.waitKey(0)\n",
    "cv.destroyAllWindows()"
   ]
  },
  {
   "cell_type": "code",
   "execution_count": 28,
   "id": "f2c90484",
   "metadata": {},
   "outputs": [
    {
     "data": {
      "text/plain": [
       "[<matplotlib.lines.Line2D at 0xc40369f4c0>]"
      ]
     },
     "execution_count": 28,
     "metadata": {},
     "output_type": "execute_result"
    }
   ],
   "source": [
    "#Histogram is created for whole image\n",
    "grey_hist1=cv.calcHist([b],[0],None,[256],[0,256])\n",
    "plot4=py.figure(4)\n",
    "py.plot(grey_hist1)"
   ]
  },
  {
   "cell_type": "markdown",
   "id": "904fa011",
   "metadata": {},
   "source": [
    "# THRESHOLDING"
   ]
  },
  {
   "cell_type": "code",
   "execution_count": 127,
   "id": "1ba77f6b",
   "metadata": {},
   "outputs": [],
   "source": [
    "#simple thresholding\n",
    "threshold, thres=cv.threshold(grey_scale,80,255,cv.THRESH_BINARY)\n",
    "cv.imshow(\"Thresholding\",thres)\n",
    "cv.waitKey(0)\n",
    "cv.destroyAllWindows()"
   ]
  },
  {
   "cell_type": "code",
   "execution_count": 123,
   "id": "0872dd88",
   "metadata": {},
   "outputs": [],
   "source": [
    "#inverse threshold\n",
    "threshold,thres=cv.threshold(grey_scale,80,255,cv.THRESH_BINARY_INV)\n",
    "cv.imshow(\"Thresholding\",thres)\n",
    "cv.waitKey(0)\n",
    "cv.destroyAllWindows()"
   ]
  },
  {
   "cell_type": "code",
   "execution_count": 129,
   "id": "c52c2336",
   "metadata": {},
   "outputs": [],
   "source": [
    "#ADAPTIVE THRESHOLD\n",
    "Adaptive_thresh=cv.adaptiveThreshold(grey_scale,200,cv.ADAPTIVE_THRESH_MEAN_C,cv.THRESH_BINARY,11,9)\n",
    "cv.imshow(\"Adaptive\",Adaptive_thresh)\n",
    "cv.waitKey(0)\n",
    "cv.destroyAllWindows()"
   ]
  },
  {
   "cell_type": "code",
   "execution_count": 131,
   "id": "8fc18304",
   "metadata": {},
   "outputs": [],
   "source": [
    "#different method used to determine\n",
    "Adaptive_thresh_guass=cv.adaptiveThreshold(grey_scale,255,cv.ADAPTIVE_THRESH_GAUSSIAN_C,cv.THRESH_BINARY,11,9)\n",
    "cv.imshow(\"Adaptive\",Adaptive_thresh)\n",
    "cv.waitKey(0)\n",
    "cv.destroyAllWindows()"
   ]
  },
  {
   "cell_type": "markdown",
   "id": "45ff1647",
   "metadata": {},
   "source": [
    "# EDGE DETECTION"
   ]
  },
  {
   "cell_type": "code",
   "execution_count": 33,
   "id": "2080d621",
   "metadata": {},
   "outputs": [],
   "source": [
    "#Laplacian\n",
    "lap=cv.Laplacian(grey_scale,cv.CV_32F)\n",
    "lap=np.uint8(np.absolute(lap))\n",
    "cv.imshow(\"Laplacian\",lap)\n",
    "cv.waitKey(0)\n",
    "cv.destroyAllWindows()"
   ]
  },
  {
   "cell_type": "code",
   "execution_count": 46,
   "id": "19130e82",
   "metadata": {},
   "outputs": [],
   "source": [
    "#SObel\n",
    "sobelx=cv.Sobel(grey_scale,cv.CV_64F,1,0)\n",
    "sobely=cv.Sobel(grey_scale,cv.CV_64F,1,1)\n",
    "cv.imshow(\"SobelX\",sobelx)\n",
    "cv.imshow(\"SobelY\",sobely)\n",
    "cv.waitKey(0)\n",
    "cv.destroyAllWindows()"
   ]
  },
  {
   "cell_type": "code",
   "execution_count": 47,
   "id": "e1b53564",
   "metadata": {},
   "outputs": [],
   "source": [
    "#Merged sobelx and sobely\n",
    "merged_image=cv.bitwise_or(sobelx,sobely)\n",
    "cv.imshow(\"Merge image\",merged_image)\n",
    "cv.waitKey(0)\n",
    "cv.destroyAllWindows()"
   ]
  },
  {
   "cell_type": "code",
   "execution_count": 36,
   "id": "2e944cbc",
   "metadata": {},
   "outputs": [],
   "source": [
    "#Canny edge detection\n",
    "Canny=cv.Canny(grey_scale,100,200)\n",
    "cv.imshow(\"Canny\",Canny)\n",
    "cv.waitKey(0)\n",
    "cv.destroyAllWindows()"
   ]
  },
  {
   "cell_type": "markdown",
   "id": "4e9c5f02",
   "metadata": {},
   "source": [
    "# WRAP PRESPECTIVE"
   ]
  },
  {
   "cell_type": "code",
   "execution_count": 132,
   "id": "2462da99",
   "metadata": {},
   "outputs": [],
   "source": [
    "import cv2 as cv\n",
    "import numpy as np\n",
    "cards=cv.imread(\"cards.jpg\")\n",
    "cv.imshow(\"CARDS\",cards)\n",
    "cv.waitKey(0)\n",
    "cv.destroyAllWindows()"
   ]
  },
  {
   "cell_type": "code",
   "execution_count": 133,
   "id": "b2d1b4f9",
   "metadata": {},
   "outputs": [
    {
     "name": "stdout",
     "output_type": "stream",
     "text": [
      "[[ 4.63560426e+00  5.87176540e-01 -4.24899487e+02]\n",
      " [-3.14467625e-02  4.33965322e+00 -8.83339558e+01]\n",
      " [-9.64861509e-05  3.17279468e-04  1.00000000e+00]] [[ 4.39181215e+00  5.81696973e-02 -1.10339190e+03]\n",
      " [ 9.11317438e-02  4.25281471e+00 -9.94247325e+01]\n",
      " [-1.55035781e-04  4.18618978e-04  1.00000000e+00]]\n"
     ]
    }
   ],
   "source": [
    "points=np.float32([[0,0],[cards.shape[1],0],[0,cards.shape[0]],[cards.shape[1],cards.shape[0]]])\n",
    "points1=np.float32([[89,21],[227,22],[70,171],[215,170]])\n",
    "points2=np.float32([[251,18],[391,15],[249,169],[398,162]])\n",
    "matrix1=cv.getPerspectiveTransform(points1,points)\n",
    "matrix2=cv.getPerspectiveTransform(points2,points)\n",
    "print(matrix1,matrix2)\n",
    "imageOutput1=cv.warpPerspective(cards,matrix1,cards.shape[:2])\n",
    "imageOutput2=cv.warpPerspective(cards,matrix2,cards.shape[:2])\n",
    "cv.imshow(\"cards image\",cards)\n",
    "cv.imshow(\"OUTPUT IMAGE1\",imageOutput1)\n",
    "cv.imshow(\"OUTPUT IMAGE2\",imageOutput2)\n",
    "circle=cv.circle(cards.copy(),(cards.shape[1]//2,cards.shape[0]//2),1,(0,255,255),2)\n",
    "cv.imshow(\"circle\",circle)\n",
    "cv.waitKey(0)\n",
    "cv.destroyAllWindows()"
   ]
  },
  {
   "cell_type": "markdown",
   "id": "b112b3f5",
   "metadata": {},
   "source": [
    "# JOINING IMAGE"
   ]
  },
  {
   "cell_type": "code",
   "execution_count": 39,
   "id": "5e311aed",
   "metadata": {},
   "outputs": [],
   "source": [
    "imgHor=np.hstack((imageOutput1,imageOutput1,imageOutput1))\n",
    "imgVer=np.vstack((imageOutput1,imageOutput1,imageOutput1))\n",
    "cv.imshow(\"Horizontal View\",imgHor)\n",
    "cv.imshow(\"Vertical View\",imgVer)\n",
    "cv.waitKey(0)\n",
    "cv.destroyAllWindows()"
   ]
  },
  {
   "cell_type": "code",
   "execution_count": 40,
   "id": "9d3f900e",
   "metadata": {},
   "outputs": [],
   "source": [
    "import cv2\n",
    "import cv2 as cv\n",
    "def stackImages(scale,imgArray):\n",
    "    rows = len(imgArray)\n",
    "    cols = len(imgArray[0])\n",
    "    rowsAvailable = isinstance(imgArray[0], list)\n",
    "    width = imgArray[0][0].shape[1]\n",
    "    height = imgArray[0][0].shape[0]\n",
    "    if rowsAvailable:\n",
    "        for x in range ( 0, rows):\n",
    "            for y in range(0, cols):\n",
    "                if imgArray[x][y].shape[:2] == imgArray[0][0].shape [:2]:\n",
    "                    imgArray[x][y] = cv2.resize(imgArray[x][y], (0, 0),cv.INTER_AREA, scale,scale)\n",
    "                else:\n",
    "                    imgArray[x][y] = cv2.resize(imgArray[x][y], (imgArray[0][0].shape[1], imgArray[0][0].shape[0]))\n",
    "                if len(imgArray[x][y].shape) == 2:\n",
    "                    imgArray[x][y]= cv2.cvtColor(imgArray[x][y], cv2.COLOR_GRAY2BGR)\n",
    "        imageBlank = np.zeros((height, width, 3),np.uint8)\n",
    "        hor = [imageBlank]*rows\n",
    "        hor_con = [imageBlank]*rows\n",
    "        for x in range(0, rows):\n",
    "            hor[x] = np.vstack(imgArray[x])\n",
    "        ver = np.hstack(hor)\n",
    "    else:\n",
    "        for x in range(0, rows):\n",
    "            if imgArray[x].shape[:2] == imgArray[0].shape[:2]:\n",
    "                imgArray[x] = cv2.resize(imgArray[x], (0, 0), None, scale, scale)\n",
    "            else:\n",
    "                imgArray[x] = cv2.resize(imgArray[x], (imgArray[0].shape[1], imgArray[0].shape[0]), None,scale, scale)\n",
    "            if len(imgArray[x].shape) == 2: \n",
    "                imgArray[x] = cv2.cvtColor(imgArray[x], cv2.COLOR_GRAY2BGR)\n",
    "        hor= np.hstack(imgArray)\n",
    "        ver = hor\n",
    "    return ver"
   ]
  },
  {
   "cell_type": "code",
   "execution_count": 41,
   "id": "c0ff8057",
   "metadata": {},
   "outputs": [
    {
     "name": "stdout",
     "output_type": "stream",
     "text": [
      "3\n"
     ]
    }
   ],
   "source": [
    "grey_image=cv.cvtColor(cards,cv.COLOR_BGR2GRAY)\n",
    "cv.imshow(\"GRAY IMAGE\",grey_image)\n",
    "color=cv.cvtColor(grey_image,cv.COLOR_GRAY2BGR)\n",
    "cv.imshow(\"COloring\",color)\n",
    "imageStack=stackImages(0.5,([cards,cards,grey_image,cards,cards],[cards,cards,grey_image,cards,cards],[cards,cards,grey_image,cards,cards]))\n",
    "cv.imshow(\"IMAGE STACK\",imageStack)\n",
    "print(len(cards.shape))\n",
    "cv.waitKey(0)\n",
    "cv.destroyAllWindows()"
   ]
  },
  {
   "cell_type": "markdown",
   "id": "8bb02019",
   "metadata": {},
   "source": [
    "# COLOR DETECTION"
   ]
  },
  {
   "cell_type": "code",
   "execution_count": 42,
   "id": "50ac5c1b",
   "metadata": {},
   "outputs": [
    {
     "ename": "error",
     "evalue": "OpenCV(4.5.3) C:\\Users\\runneradmin\\AppData\\Local\\Temp\\pip-req-build-u4kjpz2z\\opencv\\modules\\highgui\\src\\window_w32.cpp:1246: error: (-27:Null pointer) NULL window: 'Camera' in function 'cvDestroyWindow'\n",
     "output_type": "error",
     "traceback": [
      "\u001b[1;31m---------------------------------------------------------------------------\u001b[0m",
      "\u001b[1;31merror\u001b[0m                                     Traceback (most recent call last)",
      "\u001b[1;32m<ipython-input-42-51a07bdb4dcd>\u001b[0m in \u001b[0;36m<module>\u001b[1;34m\u001b[0m\n\u001b[0;32m     23\u001b[0m     \u001b[0mcv\u001b[0m\u001b[1;33m.\u001b[0m\u001b[0mimshow\u001b[0m\u001b[1;33m(\u001b[0m\u001b[1;34m\"Camera\"\u001b[0m\u001b[1;33m,\u001b[0m\u001b[0mframe\u001b[0m\u001b[1;33m)\u001b[0m\u001b[1;33m\u001b[0m\u001b[1;33m\u001b[0m\u001b[0m\n\u001b[0;32m     24\u001b[0m \u001b[0mvideo\u001b[0m\u001b[1;33m.\u001b[0m\u001b[0mrelease\u001b[0m\u001b[1;33m(\u001b[0m\u001b[1;33m)\u001b[0m\u001b[1;33m\u001b[0m\u001b[1;33m\u001b[0m\u001b[0m\n\u001b[1;32m---> 25\u001b[1;33m \u001b[0mcv\u001b[0m\u001b[1;33m.\u001b[0m\u001b[0mdestroyWindow\u001b[0m\u001b[1;33m(\u001b[0m\u001b[1;34m\"Camera\"\u001b[0m\u001b[1;33m)\u001b[0m\u001b[1;33m\u001b[0m\u001b[1;33m\u001b[0m\u001b[0m\n\u001b[0m\u001b[0;32m     26\u001b[0m \u001b[1;32mwhile\u001b[0m \u001b[1;32mTrue\u001b[0m\u001b[1;33m:\u001b[0m\u001b[1;33m\u001b[0m\u001b[1;33m\u001b[0m\u001b[0m\n\u001b[0;32m     27\u001b[0m     \u001b[1;31m#img = cv2.imread(path)\u001b[0m\u001b[1;33m\u001b[0m\u001b[1;33m\u001b[0m\u001b[1;33m\u001b[0m\u001b[0m\n",
      "\u001b[1;31merror\u001b[0m: OpenCV(4.5.3) C:\\Users\\runneradmin\\AppData\\Local\\Temp\\pip-req-build-u4kjpz2z\\opencv\\modules\\highgui\\src\\window_w32.cpp:1246: error: (-27:Null pointer) NULL window: 'Camera' in function 'cvDestroyWindow'\n"
     ]
    }
   ],
   "source": [
    "import cv2 as cv\n",
    "import cv2\n",
    "import numpy as np\n",
    "\n",
    "def empty(a):\n",
    "    pass\n",
    "\n",
    "#path = 'Resources/lambo.png'\n",
    "cv2.namedWindow(\"TrackBars\")\n",
    "cv2.resizeWindow(\"TrackBars\",720,240)  \n",
    "cv2.createTrackbar(\"Hue Min\",\"TrackBars\",0,179,empty)\n",
    "cv2.createTrackbar(\"Hue Max\",\"TrackBars\",179,179,empty)\n",
    "cv2.createTrackbar(\"Sat Min\",\"TrackBars\",0,255,empty)\n",
    "cv2.createTrackbar(\"Sat Max\",\"TrackBars\",255,255,empty)\n",
    "cv2.createTrackbar(\"Val Min\",\"TrackBars\",0,255,empty)\n",
    "cv2.createTrackbar(\"Val Max\",\"TrackBars\",255,255,empty)\n",
    "\n",
    "video=cv.VideoCapture(0)\n",
    "while True:\n",
    "    success,frame=video.read()\n",
    "    if(cv.waitKey(1) & 0xFF==ord('q') or success==False):\n",
    "        break\n",
    "    cv.imshow(\"Camera\",frame)\n",
    "video.release()\n",
    "cv.destroyWindow(\"Camera\")\n",
    "while True:\n",
    "    #img = cv2.imread(path)\n",
    "    img=frame\n",
    "    imgHSV = cv2.cvtColor(img,cv2.COLOR_BGR2HSV)\n",
    "    h_min = cv2.getTrackbarPos(\"Hue Min\", \"TrackBars\")\n",
    "    print(h_min)\n",
    "    h_max = cv2.getTrackbarPos(\"Hue Max\", \"TrackBars\")\n",
    "    s_min = cv2.getTrackbarPos(\"Sat Min\", \"TrackBars\")\n",
    "    s_max = cv2.getTrackbarPos(\"Sat Max\", \"TrackBars\")\n",
    "    v_min = cv2.getTrackbarPos(\"Val Min\", \"TrackBars\")\n",
    "    v_max = cv2.getTrackbarPos(\"Val Max\", \"TrackBars\")\n",
    "    #print(h_min,h_max,s_min,s_max,v_min,v_max)\n",
    "    lower = np.array([h_min,s_min,v_min])\n",
    "    upper = np.array([h_max,s_max,v_max])\n",
    "    \n",
    "    #print(upper,lower)\n",
    "    \n",
    "    mask = cv2.inRange(imgHSV,lower,upper)\n",
    "    imgResult = cv2.bitwise_and(img,img,mask=mask)\n",
    "\n",
    "    # cv2.imshow(\"Original\",img)\n",
    "    # cv2.imshow(\"HSV\",imgHSV)\n",
    "    # cv2.imshow(\"Mask\", mask)\n",
    "    # cv2.imshow(\"Result\", imgResult)\n",
    "\n",
    "    imgStack = stackImages(0.5,[[img,imgHSV],[mask,imgResult]])\n",
    "    cv2.imshow(\"Stacked Images\", imgStack)\n",
    "    if (cv2.waitKey(1) & 0xFF == ord('q')):\n",
    "        break\n",
    "cv.destroyAllWindows()\n"
   ]
  },
  {
   "cell_type": "code",
   "execution_count": null,
   "id": "db24597c",
   "metadata": {},
   "outputs": [],
   "source": []
  }
 ],
 "metadata": {
  "kernelspec": {
   "display_name": "Python 3",
   "language": "python",
   "name": "python3"
  },
  "language_info": {
   "codemirror_mode": {
    "name": "ipython",
    "version": 3
   },
   "file_extension": ".py",
   "mimetype": "text/x-python",
   "name": "python",
   "nbconvert_exporter": "python",
   "pygments_lexer": "ipython3",
   "version": "3.8.8"
  }
 },
 "nbformat": 4,
 "nbformat_minor": 5
}
