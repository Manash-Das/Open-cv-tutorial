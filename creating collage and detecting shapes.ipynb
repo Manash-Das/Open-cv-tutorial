{
 "cells": [
  {
   "cell_type": "code",
   "execution_count": 1,
   "id": "ff998e03",
   "metadata": {},
   "outputs": [],
   "source": [
    "import cv2 as cv\n",
    "import numpy as np"
   ]
  },
  {
   "cell_type": "code",
   "execution_count": 90,
   "id": "76def1dd",
   "metadata": {},
   "outputs": [],
   "source": [
    "#Create dynamic circle with radius sloder\n",
    "image=cv.imread(\"cards.jpg\")\n",
    "def nothing(a):\n",
    "    circle=cv.circle(Blank.copy(),(image.shape[1]//2,image.shape[0]//2),a,(0,255,255),-1)\n",
    "    cv.imshow(\"circle\",circle)\n",
    "Blank=np.zeros(image.shape[:],np.uint8)\n",
    "cv.imshow(\"circle\",Blank)\n",
    "cv.namedWindow(\"Color Tracker\")\n",
    "cv.createTrackbar(\"Radius\",\"Color Tracker\",0,image.shape[0]//2,nothing)\n",
    "cv.resizeWindow(\"Color Tracker\",image.shape[:2])\n",
    "#circle=cv.circle(Blank.copy(),(image.shape[1]//2,image.shape[0]//2),a,(0,255,0),-1)\n",
    "#cv.imshow(\"circle\",circle)\n",
    "\n",
    "cv.waitKey(0)\n",
    "cv.destroyAllWindows()"
   ]
  },
  {
   "cell_type": "code",
   "execution_count": 31,
   "id": "8e8b6f7a",
   "metadata": {},
   "outputs": [],
   "source": [
    "#Creating collection of image\n",
    "import cv2\n",
    "def stackImages(scale,imgArray):\n",
    "    rows = len(imgArray)\n",
    "    cols = len(imgArray[0])\n",
    "    rowsAvailable = isinstance(imgArray[0], list)\n",
    "    width = imgArray[0][0].shape[1]\n",
    "    height = imgArray[0][0].shape[0]\n",
    "    if rowsAvailable:\n",
    "        for x in range ( 0, rows):\n",
    "            for y in range(0, cols):\n",
    "                if imgArray[x][y].shape[:2] == imgArray[0][0].shape [:2]:\n",
    "                    imgArray[x][y] = cv2.resize(imgArray[x][y], (0, 0), None, scale, scale)\n",
    "                else:\n",
    "                    imgArray[x][y] = cv2.resize(imgArray[x][y], (imgArray[0][0].shape[1], imgArray[0][0].shape[0]), None, scale, scale)\n",
    "                if len(imgArray[x][y].shape) == 2: imgArray[x][y]= cv2.cvtColor( imgArray[x][y], cv2.COLOR_GRAY2BGR)\n",
    "        imageBlank = np.zeros((height, width, 3), np.uint8)\n",
    "        hor = [imageBlank]*rows\n",
    "        hor_con = [imageBlank]*rows\n",
    "        for x in range(0, rows):\n",
    "            hor[x] = np.hstack(imgArray[x])\n",
    "        ver = np.vstack(hor)\n",
    "    else:\n",
    "        for x in range(0, rows):\n",
    "            if imgArray[x].shape[:2] == imgArray[0].shape[:2]:\n",
    "                imgArray[x] = cv2.resize(imgArray[x], (0, 0), None, scale, scale)\n",
    "            else:\n",
    "                imgArray[x] = cv2.resize(imgArray[x], (imgArray[0].shape[1], imgArray[0].shape[0]), None,scale, scale)\n",
    "            if len(imgArray[x].shape) == 2: imgArray[x] = cv2.cvtColor(imgArray[x], cv2.COLOR_GRAY2BGR)\n",
    "        hor= np.hstack(imgArray)\n",
    "        ver = hor\n",
    "    return ver"
   ]
  },
  {
   "cell_type": "code",
   "execution_count": 92,
   "id": "c287c0db",
   "metadata": {},
   "outputs": [],
   "source": [
    "#Define image with shapes\n",
    "def getCoutours(image):\n",
    "    contours,hierarchy=cv.findContours(image,cv.RETR_EXTERNAL,cv.CHAIN_APPROX_NONE)\n",
    "\n",
    "    for cnt in contours:\n",
    "        area=cv.contourArea(cnt)\n",
    "        #print(area)\n",
    "        if(area>500):\n",
    "            cv.drawContours(img,cnt,-1,(255,0,0),3)\n",
    "            peri=cv.arcLength(cnt,True)\n",
    "            #print(peri)\n",
    "            approx=cv.approxPolyDP(cnt,0.02*peri,True)\n",
    "            print(len(approx))\n",
    "            objCorner=len(approx)\n",
    "            x,y,w,h=cv2.boundingRect(approx)\n",
    "            cv.rectangle(img,(x,y),(x+w,y+h),(0,0,255))\n",
    "            if objCorner==3:\n",
    "                objectType=\"Tri\"\n",
    "            elif objCorner==4:\n",
    "                aspectRatio=w/float(h)\n",
    "                if(aspectRatio>0.95 or aspectRatio<1.05):\n",
    "                    objectType=\"Rect\"\n",
    "                else:\n",
    "                    objectType=\"squa\"\n",
    "            else:\n",
    "                objectType=\"Circle\"\n",
    "                \n",
    "            cv.putText(img,objectType,(x+(w//2)-30,y+(h//2)+20),cv.FONT_HERSHEY_COMPLEX,1,(0,0,0),1)\n",
    "            "
   ]
  },
  {
   "cell_type": "code",
   "execution_count": 94,
   "id": "393d17ee",
   "metadata": {},
   "outputs": [
    {
     "name": "stdout",
     "output_type": "stream",
     "text": [
      "8\n",
      "4\n",
      "4\n",
      "8\n",
      "3\n",
      "4\n",
      "4\n",
      "3\n",
      "4\n",
      "4\n",
      "8\n",
      "4\n",
      "4\n",
      "3\n",
      "8\n",
      "3\n"
     ]
    }
   ],
   "source": [
    "#Image detection\n",
    "shapes=cv.imread(\"shapes.png\")\n",
    "greyShapes=cv.cvtColor(shapes,cv.COLOR_BGR2GRAY)\n",
    "blurShapes=cv.GaussianBlur(greyShapes,(7,7),1)\n",
    "cannyImage=cv.Canny(blurShapes,150,50)\n",
    "Blank=np.zeros_like(shapes)\n",
    "img=shapes.copy()\n",
    "\n",
    "getCoutours(cannyImage)\n",
    "#cv.imshow(\"Blur Image\",blurShapes)\n",
    "#cv.imshow(\"shapes\",shapes)\n",
    "#cv.imshow(\"Grey Image\",greyShapes)\n",
    "collectedImage=stackImages(0.7,([shapes,greyShapes,blurShapes],[cannyImage,img,Blank]))\n",
    "cv.imshow(\"Collected Image\",collectedImage)\n",
    "cv.waitKey(0)\n",
    "cv.destroyAllWindows()"
   ]
  },
  {
   "cell_type": "code",
   "execution_count": null,
   "id": "ba185dba",
   "metadata": {},
   "outputs": [],
   "source": []
  }
 ],
 "metadata": {
  "kernelspec": {
   "display_name": "Python 3",
   "language": "python",
   "name": "python3"
  },
  "language_info": {
   "codemirror_mode": {
    "name": "ipython",
    "version": 3
   },
   "file_extension": ".py",
   "mimetype": "text/x-python",
   "name": "python",
   "nbconvert_exporter": "python",
   "pygments_lexer": "ipython3",
   "version": "3.8.8"
  }
 },
 "nbformat": 4,
 "nbformat_minor": 5
}
