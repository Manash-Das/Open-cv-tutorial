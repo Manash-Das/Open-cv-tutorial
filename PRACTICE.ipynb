{
 "cells": [
  {
   "cell_type": "code",
   "execution_count": 1,
   "id": "742afeb0",
   "metadata": {},
   "outputs": [],
   "source": [
    "import cv2 as cv\n",
    "import numpy as np"
   ]
  },
  {
   "cell_type": "code",
   "execution_count": 14,
   "id": "49d85fc5",
   "metadata": {},
   "outputs": [],
   "source": [
    "original=cv.imread(\"cards.jpg\")\n",
    "interArea=cv.resize(original,(500,500),None,0,0,cv.INTER_AREA)\n",
    "interLinear=cv.resize(original,(500,500),None,0,0,cv.INTER_LINEAR)\n",
    "interLinearExact=cv.resize(original,(500,500),None,0,0,cv.INTER_LINEAR_EXACT)\n",
    "interCubic=cv.resize(original,(500,500),None,0,0,cv.INTER_CUBIC)\n",
    "\n",
    "cv.imshow(\"Inter Area\",interArea)\n",
    "cv.imshow(\"inter linear\",interLinear)\n",
    "cv.imshow(\"interLinearExact\",interLinearExact)\n",
    "cv.imshow(\"interCubic\",interCubic)\n",
    "cv.imshow(\"Original\",original)\n",
    "cv.waitKey(0)\n",
    "cv.destroyAllWindows()"
   ]
  },
  {
   "cell_type": "code",
   "execution_count": 20,
   "id": "2c860298",
   "metadata": {},
   "outputs": [],
   "source": [
    "#Blank=np.ones((500,500,3),dtype='uint8')\n",
    "Blank[300:500]=(3,252,198)\n",
    "cv.imshow(\"Blank\",Blank)\n",
    "cv.waitKey(0)\n",
    "cv.destroyAllWindows()"
   ]
  },
  {
   "cell_type": "code",
   "execution_count": null,
   "id": "b953c254",
   "metadata": {},
   "outputs": [],
   "source": []
  },
  {
   "cell_type": "code",
   "execution_count": 21,
   "id": "88db5875",
   "metadata": {},
   "outputs": [],
   "source": [
    "cv.rectangle(Blank[300:500],(60,60),(250,250),(198,252,1),5)\n",
    "cv.imshow(\"Blank\",Blank)\n",
    "cv.waitKey(0)\n",
    "cv.destroyAllWindows()"
   ]
  },
  {
   "cell_type": "code",
   "execution_count": null,
   "id": "7f685824",
   "metadata": {},
   "outputs": [],
   "source": []
  }
 ],
 "metadata": {
  "kernelspec": {
   "display_name": "Python 3",
   "language": "python",
   "name": "python3"
  },
  "language_info": {
   "codemirror_mode": {
    "name": "ipython",
    "version": 3
   },
   "file_extension": ".py",
   "mimetype": "text/x-python",
   "name": "python",
   "nbconvert_exporter": "python",
   "pygments_lexer": "ipython3",
   "version": "3.8.8"
  }
 },
 "nbformat": 4,
 "nbformat_minor": 5
}
