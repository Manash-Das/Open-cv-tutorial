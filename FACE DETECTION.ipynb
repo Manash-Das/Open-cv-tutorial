{
 "cells": [
  {
   "cell_type": "code",
   "execution_count": 26,
   "id": "252ef0fd",
   "metadata": {},
   "outputs": [],
   "source": [
    "def Resolution(image,ratio):\n",
    "    width=int(image.shape[1]*ratio)\n",
    "    height=int(image.shape[0]*ratio)\n",
    "    dimension=(height,width)\n",
    "    return cv.resize(image,dimension,cv.INTER_AREA)"
   ]
  },
  {
   "cell_type": "code",
   "execution_count": 27,
   "id": "93123f4a",
   "metadata": {},
   "outputs": [],
   "source": [
    "import cv2 as cv\n",
    "photo=cv.imread(\"1.jpg\")\n",
    "image=Resolution(photo,0.65)\n",
    "cv.imshow(\"Photo\",image)\n",
    "cv.waitKey(0)\n",
    "cv.destroyAllWindows()"
   ]
  },
  {
   "cell_type": "code",
   "execution_count": 28,
   "id": "99491ebc",
   "metadata": {},
   "outputs": [
    {
     "name": "stdout",
     "output_type": "stream",
     "text": [
      "Number of faces found = 0\n"
     ]
    }
   ],
   "source": [
    "grey=cv.cvtColor(image,cv.COLOR_BGR2GRAY)\n",
    "cv.imshow(\"GREY PHOTO\",grey)\n",
    "cv.waitKey(0)\n",
    "cv.destroyAllWindows()\n",
    "haar_cascade=cv.CascadeClassifier('Face detection.xml')\n",
    "face_rect=haar_cascade.detectMultiScale(grey,scaleFactor=1.5,minNeighbors=3)\n",
    "print(f\"Number of faces found = {len(face_rect)}\")"
   ]
  },
  {
   "cell_type": "code",
   "execution_count": 31,
   "id": "db3f8d4e",
   "metadata": {},
   "outputs": [],
   "source": [
    "for (x,y,z,w) in face_rect:\n",
    "    cv.rectangle(image,(x,y),(x+z,y+w),(0,255,0),thickness=2)\n",
    "cv.imshow(\"Detect\",image)\n",
    "cv.waitKey(0)\n",
    "cv.destroyAllWindows()"
   ]
  },
  {
   "cell_type": "code",
   "execution_count": null,
   "id": "97f6c378",
   "metadata": {},
   "outputs": [],
   "source": []
  }
 ],
 "metadata": {
  "kernelspec": {
   "display_name": "Python 3",
   "language": "python",
   "name": "python3"
  },
  "language_info": {
   "codemirror_mode": {
    "name": "ipython",
    "version": 3
   },
   "file_extension": ".py",
   "mimetype": "text/x-python",
   "name": "python",
   "nbconvert_exporter": "python",
   "pygments_lexer": "ipython3",
   "version": "3.8.8"
  }
 },
 "nbformat": 4,
 "nbformat_minor": 5
}
